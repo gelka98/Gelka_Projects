{
 "cells": [
  {
   "cell_type": "code",
   "execution_count": 1,
   "id": "1b8ee14b",
   "metadata": {},
   "outputs": [],
   "source": [
    "#Importing liabraries\n",
    "import pandas as pd\n",
    "import numpy as nd"
   ]
  },
  {
   "cell_type": "code",
   "execution_count": 2,
   "id": "e86747c3",
   "metadata": {},
   "outputs": [
    {
     "name": "stdout",
     "output_type": "stream",
     "text": [
      "Date: 2024-12-26\n",
      "Student ID: 500681622\n",
      "Purpose: Python Assignment\n"
     ]
    }
   ],
   "source": [
    "print(\"Date: 2024-12-26\")\n",
    "print(\"Student ID: 500681622\")\n",
    "print(\"Purpose: Python Assignment\")"
   ]
  },
  {
   "cell_type": "markdown",
   "id": "0d79854c",
   "metadata": {},
   "source": [
    "# TASK_1"
   ]
  },
  {
   "cell_type": "code",
   "execution_count": 3,
   "id": "83a216d3",
   "metadata": {},
   "outputs": [
    {
     "name": "stdout",
     "output_type": "stream",
     "text": [
      "      age;\"job\";\"marital\";\"education\";\"default\";\"housing\";\"loan\";\"contact\";\"month\";\"day_of_week\";\"duration\";\"campaign\";\"pdays\";\"previous\";\"poutcome\";\"emp.var.rate\";\"cons.price.idx\";\"cons.conf.idx\";\"euribor3m\";\"nr.employed\";\"y\"\n",
      "0      56;\"housemaid\";\"married\";\"basic.4y\";\"no\";\"no\";...                                                                                                                                                                          \n",
      "1      57;\"services\";\"married\";\"high.school\";\"unknown...                                                                                                                                                                          \n",
      "2      37;\"services\";\"married\";\"high.school\";\"no\";\"ye...                                                                                                                                                                          \n",
      "3      40;\"admin.\";\"married\";\"basic.6y\";\"no\";\"no\";\"no...                                                                                                                                                                          \n",
      "4      56;\"services\";\"married\";\"high.school\";\"no\";\"no...                                                                                                                                                                          \n",
      "...                                                  ...                                                                                                                                                                          \n",
      "41183  73;\"retired\";\"married\";\"professional.course\";\"...                                                                                                                                                                          \n",
      "41184  46;\"blue-collar\";\"married\";\"professional.cours...                                                                                                                                                                          \n",
      "41185  56;\"retired\";\"married\";\"university.degree\";\"no...                                                                                                                                                                          \n",
      "41186  44;\"technician\";\"married\";\"professional.course...                                                                                                                                                                          \n",
      "41187  74;\"retired\";\"married\";\"professional.course\";\"...                                                                                                                                                                          \n",
      "\n",
      "[41188 rows x 1 columns]\n"
     ]
    }
   ],
   "source": [
    "#Importing dataset\n",
    "data= pd.read_csv(\"D:/University/Semester1/Coding/Python project/bank-additional-full.csv\")\n",
    "print(data)"
   ]
  },
  {
   "cell_type": "code",
   "execution_count": 4,
   "id": "80e291d8",
   "metadata": {},
   "outputs": [
    {
     "name": "stdout",
     "output_type": "stream",
     "text": [
      "data preview:\n",
      "  age;\"job\";\"marital\";\"education\";\"default\";\"housing\";\"loan\";\"contact\";\"month\";\"day_of_week\";\"duration\";\"campaign\";\"pdays\";\"previous\";\"poutcome\";\"emp.var.rate\";\"cons.price.idx\";\"cons.conf.idx\";\"euribor3m\";\"nr.employed\";\"y\"\n",
      "0  56;\"housemaid\";\"married\";\"basic.4y\";\"no\";\"no\";...                                                                                                                                                                          \n",
      "1  57;\"services\";\"married\";\"high.school\";\"unknown...                                                                                                                                                                          \n",
      "2  37;\"services\";\"married\";\"high.school\";\"no\";\"ye...                                                                                                                                                                          \n",
      "3  40;\"admin.\";\"married\";\"basic.6y\";\"no\";\"no\";\"no...                                                                                                                                                                          \n",
      "4  56;\"services\";\"married\";\"high.school\";\"no\";\"no...                                                                                                                                                                          \n"
     ]
    }
   ],
   "source": [
    "print(\"data preview:\")\n",
    "print(data.head())"
   ]
  },
  {
   "cell_type": "code",
   "execution_count": 5,
   "id": "0b8032be",
   "metadata": {},
   "outputs": [
    {
     "name": "stdout",
     "output_type": "stream",
     "text": [
      "   age        job  marital    education  default housing loan    contact  \\\n",
      "0   56  housemaid  married     basic.4y       no      no   no  telephone   \n",
      "1   57   services  married  high.school  unknown      no   no  telephone   \n",
      "2   37   services  married  high.school       no     yes   no  telephone   \n",
      "3   40     admin.  married     basic.6y       no      no   no  telephone   \n",
      "4   56   services  married  high.school       no      no  yes  telephone   \n",
      "\n",
      "  month day_of_week  ...  campaign  pdays  previous     poutcome emp.var.rate  \\\n",
      "0   may         mon  ...         1    999         0  nonexistent          1.1   \n",
      "1   may         mon  ...         1    999         0  nonexistent          1.1   \n",
      "2   may         mon  ...         1    999         0  nonexistent          1.1   \n",
      "3   may         mon  ...         1    999         0  nonexistent          1.1   \n",
      "4   may         mon  ...         1    999         0  nonexistent          1.1   \n",
      "\n",
      "   cons.price.idx  cons.conf.idx  euribor3m  nr.employed   y  \n",
      "0          93.994          -36.4      4.857       5191.0  no  \n",
      "1          93.994          -36.4      4.857       5191.0  no  \n",
      "2          93.994          -36.4      4.857       5191.0  no  \n",
      "3          93.994          -36.4      4.857       5191.0  no  \n",
      "4          93.994          -36.4      4.857       5191.0  no  \n",
      "\n",
      "[5 rows x 21 columns]\n"
     ]
    }
   ],
   "source": [
    "# Data_Manipulation\n",
    "data= pd.read_csv(\"D:/University/Semester1/Coding/Python project/bank-additional-full.csv\", delimiter=\";\", quotechar='\"')\n",
    "print(data.head())"
   ]
  },
  {
   "cell_type": "code",
   "execution_count": 6,
   "id": "b5fbcdd8",
   "metadata": {},
   "outputs": [
    {
     "name": "stdout",
     "output_type": "stream",
     "text": [
      "Sampled data preview:\n",
      "       age          job  marital    education  default housing loan  \\\n",
      "32884   57   technician  married  high.school       no      no  yes   \n",
      "3169    55      unknown  married      unknown  unknown     yes   no   \n",
      "32206   33  blue-collar  married     basic.9y       no      no   no   \n",
      "9403    36       admin.  married  high.school       no      no   no   \n",
      "14020   27    housemaid  married  high.school       no     yes   no   \n",
      "\n",
      "         contact month day_of_week  ...  campaign  pdays  previous  \\\n",
      "32884   cellular   may         mon  ...         1    999         1   \n",
      "3169   telephone   may         thu  ...         2    999         0   \n",
      "32206   cellular   may         fri  ...         1    999         1   \n",
      "9403   telephone   jun         fri  ...         4    999         0   \n",
      "14020   cellular   jul         fri  ...         2    999         0   \n",
      "\n",
      "          poutcome emp.var.rate  cons.price.idx  cons.conf.idx  euribor3m  \\\n",
      "32884      failure         -1.8          92.893          -46.2      1.299   \n",
      "3169   nonexistent          1.1          93.994          -36.4      4.860   \n",
      "32206      failure         -1.8          92.893          -46.2      1.313   \n",
      "9403   nonexistent          1.4          94.465          -41.8      4.967   \n",
      "14020  nonexistent          1.4          93.918          -42.7      4.963   \n",
      "\n",
      "       nr.employed   y  \n",
      "32884       5099.1  no  \n",
      "3169        5191.0  no  \n",
      "32206       5099.1  no  \n",
      "9403        5228.1  no  \n",
      "14020       5228.1  no  \n",
      "\n",
      "[5 rows x 21 columns]\n"
     ]
    }
   ],
   "source": [
    "## Data_sampling\n",
    "random_seed = 42\n",
    "sampled_data = data.sample(frac=0.2, random_state=random_seed)\n",
    "print(\"Sampled data preview:\")\n",
    "print(sampled_data.head())"
   ]
  },
  {
   "cell_type": "markdown",
   "id": "fe8dfd88",
   "metadata": {},
   "source": [
    "# TASK_2"
   ]
  },
  {
   "cell_type": "markdown",
   "id": "554d19f9",
   "metadata": {},
   "source": [
    "# Job Backgrounds and Education Levels Analysis"
   ]
  },
  {
   "cell_type": "code",
   "execution_count": 7,
   "id": "ede1349b",
   "metadata": {
    "scrolled": false
   },
   "outputs": [
    {
     "name": "stdout",
     "output_type": "stream",
     "text": [
      "Accuracy: 0.8743932038834952\n",
      "\n",
      "Confusion Matrix:\n",
      " [[1441    0]\n",
      " [ 207    0]]\n",
      "\n",
      "Classification Report:\n",
      "               precision    recall  f1-score   support\n",
      "\n",
      "          no       0.87      1.00      0.93      1441\n",
      "         yes       0.00      0.00      0.00       207\n",
      "\n",
      "    accuracy                           0.87      1648\n",
      "   macro avg       0.44      0.50      0.47      1648\n",
      "weighted avg       0.76      0.87      0.82      1648\n",
      "\n"
     ]
    },
    {
     "name": "stderr",
     "output_type": "stream",
     "text": [
      "C:\\ANA\\lib\\site-packages\\sklearn\\metrics\\_classification.py:1248: UndefinedMetricWarning: Precision and F-score are ill-defined and being set to 0.0 in labels with no predicted samples. Use `zero_division` parameter to control this behavior.\n",
      "  _warn_prf(average, modifier, msg_start, len(result))\n",
      "C:\\ANA\\lib\\site-packages\\sklearn\\metrics\\_classification.py:1248: UndefinedMetricWarning: Precision and F-score are ill-defined and being set to 0.0 in labels with no predicted samples. Use `zero_division` parameter to control this behavior.\n",
      "  _warn_prf(average, modifier, msg_start, len(result))\n",
      "C:\\ANA\\lib\\site-packages\\sklearn\\metrics\\_classification.py:1248: UndefinedMetricWarning: Precision and F-score are ill-defined and being set to 0.0 in labels with no predicted samples. Use `zero_division` parameter to control this behavior.\n",
      "  _warn_prf(average, modifier, msg_start, len(result))\n"
     ]
    }
   ],
   "source": [
    "# Assuming 'job' and 'education' are relevant features for analysis\n",
    "X1 = sampled_data[['job', 'education']]\n",
    "y1 = sampled_data['y']\n",
    "\n",
    "# Splitting the data into training and testing sets\n",
    "from sklearn.model_selection import train_test_split\n",
    "\n",
    "X1_train, X1_test, y1_train, y1_test = train_test_split(X1, y1, test_size=0.2, random_state=42)\n",
    "\n",
    "# One-hot encoding for categorical variables\n",
    "from sklearn.preprocessing import OneHotEncoder\n",
    "from sklearn.compose import ColumnTransformer\n",
    "from sklearn.pipeline import Pipeline\n",
    "\n",
    "# Define the transformer for one-hot encoding\n",
    "preprocessor1 = ColumnTransformer(\n",
    "    transformers=[\n",
    "        ('cat', OneHotEncoder(), ['job', 'education'])\n",
    "    ],\n",
    "    remainder='passthrough'\n",
    ")\n",
    "\n",
    "# Assuming Logistic Regression as the chosen classification algorithm\n",
    "from sklearn.linear_model import LogisticRegression\n",
    "from sklearn.metrics import accuracy_score, confusion_matrix, classification_report\n",
    "\n",
    "# Create a pipeline with one-hot encoding and logistic regression\n",
    "model1 = Pipeline(steps=[\n",
    "    ('preprocessor', preprocessor1),\n",
    "    ('classifier', LogisticRegression(random_state=42))\n",
    "])\n",
    "\n",
    "# Training the model\n",
    "model1.fit(X1_train, y1_train)\n",
    "\n",
    "# Predicting responses on the test set\n",
    "predictions1 = model1.predict(X1_test)\n",
    "\n",
    "# Evaluating the model\n",
    "accuracy1 = accuracy_score(y1_test, predictions1)\n",
    "conf_matrix1 = confusion_matrix(y1_test, predictions1)\n",
    "classification_report1 = classification_report(y1_test, predictions1)\n",
    "\n",
    "# Displaying results\n",
    "print(f\"Accuracy: {accuracy1}\")\n",
    "print(\"\\nConfusion Matrix:\\n\", conf_matrix1)\n",
    "print(\"\\nClassification Report:\\n\", classification_report1)"
   ]
  },
  {
   "cell_type": "markdown",
   "id": "088fe1fc",
   "metadata": {},
   "source": [
    "# Contact Communication Type Analysis"
   ]
  },
  {
   "cell_type": "code",
   "execution_count": 8,
   "id": "af00e3fb",
   "metadata": {
    "scrolled": true
   },
   "outputs": [
    {
     "name": "stdout",
     "output_type": "stream",
     "text": [
      "Accuracy: 0.8743932038834952\n",
      "\n",
      "Confusion Matrix:\n",
      " [[1441    0]\n",
      " [ 207    0]]\n",
      "\n",
      "Classification Report:\n",
      "               precision    recall  f1-score   support\n",
      "\n",
      "          no       0.87      1.00      0.93      1441\n",
      "         yes       0.00      0.00      0.00       207\n",
      "\n",
      "    accuracy                           0.87      1648\n",
      "   macro avg       0.44      0.50      0.47      1648\n",
      "weighted avg       0.76      0.87      0.82      1648\n",
      "\n"
     ]
    },
    {
     "name": "stderr",
     "output_type": "stream",
     "text": [
      "C:\\ANA\\lib\\site-packages\\sklearn\\metrics\\_classification.py:1248: UndefinedMetricWarning: Precision and F-score are ill-defined and being set to 0.0 in labels with no predicted samples. Use `zero_division` parameter to control this behavior.\n",
      "  _warn_prf(average, modifier, msg_start, len(result))\n",
      "C:\\ANA\\lib\\site-packages\\sklearn\\metrics\\_classification.py:1248: UndefinedMetricWarning: Precision and F-score are ill-defined and being set to 0.0 in labels with no predicted samples. Use `zero_division` parameter to control this behavior.\n",
      "  _warn_prf(average, modifier, msg_start, len(result))\n",
      "C:\\ANA\\lib\\site-packages\\sklearn\\metrics\\_classification.py:1248: UndefinedMetricWarning: Precision and F-score are ill-defined and being set to 0.0 in labels with no predicted samples. Use `zero_division` parameter to control this behavior.\n",
      "  _warn_prf(average, modifier, msg_start, len(result))\n"
     ]
    }
   ],
   "source": [
    "# Assuming 'contact' is a relevant feature for analysis\n",
    "X2 = sampled_data[['contact']]\n",
    "y2 = sampled_data['y']\n",
    "\n",
    "# Splitting the data into training and testing sets\n",
    "from sklearn.model_selection import train_test_split\n",
    "\n",
    "X2_train, X2_test, y2_train, y2_test = train_test_split(X2, y2, test_size=0.2, random_state=42)\n",
    "\n",
    "# One-hot encoding for the 'contact' column\n",
    "from sklearn.preprocessing import OneHotEncoder\n",
    "from sklearn.compose import ColumnTransformer\n",
    "from sklearn.pipeline import Pipeline\n",
    "\n",
    "# Define the transformer for one-hot encoding\n",
    "preprocessor2 = ColumnTransformer(\n",
    "    transformers=[\n",
    "        ('cat', OneHotEncoder(), ['contact'])\n",
    "    ],\n",
    "    remainder='passthrough'\n",
    ")\n",
    "\n",
    "# Assuming Logistic Regression as the chosen classification algorithm\n",
    "from sklearn.linear_model import LogisticRegression\n",
    "from sklearn.metrics import accuracy_score, confusion_matrix, classification_report\n",
    "\n",
    "# Create a pipeline with one-hot encoding and logistic regression\n",
    "model2 = Pipeline(steps=[\n",
    "    ('preprocessor', preprocessor2),\n",
    "    ('classifier', LogisticRegression(random_state=42))\n",
    "])\n",
    "\n",
    "# Training the model\n",
    "model2.fit(X2_train, y2_train)\n",
    "\n",
    "# Predicting responses on the test set\n",
    "predictions2 = model2.predict(X2_test)\n",
    "\n",
    "# Evaluating the model\n",
    "accuracy2 = accuracy_score(y2_test, predictions2)\n",
    "conf_matrix2 = confusion_matrix(y2_test, predictions2)\n",
    "classification_report2 = classification_report(y2_test, predictions2)\n",
    "\n",
    "# Displaying results\n",
    "print(f\"Accuracy: {accuracy2}\")\n",
    "print(\"\\nConfusion Matrix:\\n\", conf_matrix2)\n",
    "print(\"\\nClassification Report:\\n\", classification_report2)"
   ]
  },
  {
   "cell_type": "markdown",
   "id": "f8aee7a2",
   "metadata": {},
   "source": [
    "# Age Groups Investigation"
   ]
  },
  {
   "cell_type": "code",
   "execution_count": 9,
   "id": "5c2c6c84",
   "metadata": {},
   "outputs": [
    {
     "name": "stderr",
     "output_type": "stream",
     "text": [
      "C:\\ANA\\lib\\site-packages\\sklearn\\metrics\\_classification.py:1248: UndefinedMetricWarning: Precision and F-score are ill-defined and being set to 0.0 in labels with no predicted samples. Use `zero_division` parameter to control this behavior.\n",
      "  _warn_prf(average, modifier, msg_start, len(result))\n",
      "C:\\ANA\\lib\\site-packages\\sklearn\\metrics\\_classification.py:1248: UndefinedMetricWarning: Precision and F-score are ill-defined and being set to 0.0 in labels with no predicted samples. Use `zero_division` parameter to control this behavior.\n",
      "  _warn_prf(average, modifier, msg_start, len(result))\n"
     ]
    },
    {
     "name": "stdout",
     "output_type": "stream",
     "text": [
      "Accuracy: 0.8743932038834952\n",
      "\n",
      "Confusion Matrix:\n",
      " [[1441    0]\n",
      " [ 207    0]]\n",
      "\n",
      "Classification Report:\n",
      "               precision    recall  f1-score   support\n",
      "\n",
      "          no       0.87      1.00      0.93      1441\n",
      "         yes       0.00      0.00      0.00       207\n",
      "\n",
      "    accuracy                           0.87      1648\n",
      "   macro avg       0.44      0.50      0.47      1648\n",
      "weighted avg       0.76      0.87      0.82      1648\n",
      "\n"
     ]
    },
    {
     "name": "stderr",
     "output_type": "stream",
     "text": [
      "C:\\ANA\\lib\\site-packages\\sklearn\\metrics\\_classification.py:1248: UndefinedMetricWarning: Precision and F-score are ill-defined and being set to 0.0 in labels with no predicted samples. Use `zero_division` parameter to control this behavior.\n",
      "  _warn_prf(average, modifier, msg_start, len(result))\n"
     ]
    }
   ],
   "source": [
    "# Assuming 'age' and 'contact' are relevant features for analysis\n",
    "X3 = sampled_data[['age', 'contact']]\n",
    "y3 = sampled_data['y']\n",
    "\n",
    "# Splitting the data into training and testing sets\n",
    "from sklearn.model_selection import train_test_split\n",
    "\n",
    "X3_train, X3_test, y3_train, y3_test = train_test_split(X3, y3, test_size=0.2, random_state=42)\n",
    "\n",
    "# One-hot encoding for the 'contact' column\n",
    "from sklearn.preprocessing import OneHotEncoder\n",
    "from sklearn.compose import ColumnTransformer\n",
    "from sklearn.pipeline import Pipeline\n",
    "\n",
    "# Define the transformer for one-hot encoding\n",
    "preprocessor3 = ColumnTransformer(\n",
    "    transformers=[\n",
    "        ('cat', OneHotEncoder(), ['contact'])\n",
    "    ],\n",
    "    remainder='passthrough'\n",
    ")\n",
    "\n",
    "# Assuming Logistic Regression as the chosen classification algorithm\n",
    "from sklearn.linear_model import LogisticRegression\n",
    "from sklearn.metrics import accuracy_score, confusion_matrix, classification_report\n",
    "\n",
    "# Create a pipeline with one-hot encoding and logistic regression\n",
    "model3 = Pipeline(steps=[\n",
    "    ('preprocessor', preprocessor3),\n",
    "    ('classifier', LogisticRegression(random_state=42))\n",
    "])\n",
    "\n",
    "# Training the model\n",
    "model3.fit(X3_train, y3_train)\n",
    "\n",
    "# Predicting responses on the test set\n",
    "predictions3 = model3.predict(X3_test)\n",
    "\n",
    "# Evaluating the model\n",
    "accuracy3 = accuracy_score(y3_test, predictions3)\n",
    "conf_matrix3 = confusion_matrix(y3_test, predictions3)\n",
    "classification_report3 = classification_report(y3_test, predictions3)\n",
    "\n",
    "# Displaying results\n",
    "print(f\"Accuracy: {accuracy3}\")\n",
    "print(\"\\nConfusion Matrix:\\n\", conf_matrix3)\n",
    "print(\"\\nClassification Report:\\n\", classification_report3)"
   ]
  },
  {
   "cell_type": "code",
   "execution_count": 10,
   "id": "d9e69ea9",
   "metadata": {
    "scrolled": true
   },
   "outputs": [
    {
     "name": "stdout",
     "output_type": "stream",
     "text": [
      "\n",
      "Insight 1: Relationship between education and responses\n",
      "y                      no  yes\n",
      "education                     \n",
      "basic.4y              755   83\n",
      "basic.6y              401   39\n",
      "basic.9y             1144   93\n",
      "high.school          1684  217\n",
      "illiterate              4    1\n",
      "professional.course   943  124\n",
      "university.degree    2100  318\n",
      "unknown               272   60\n",
      "\n",
      "Insight 2: Impact of campaign duration on responses\n",
      "y                    no  yes\n",
      "duration_category           \n",
      "0-100              1995   11\n",
      "101-200            2388  128\n",
      "201-300            1277  155\n",
      "301-400             696  116\n",
      "401-500             366   88\n",
      "501+                581  437\n"
     ]
    }
   ],
   "source": [
    "#Relationship between education and responses\n",
    "education_insight = sampled_data.groupby(['education', 'y']).size().unstack(fill_value=0)\n",
    "print(\"\\nInsight 1: Relationship between education and responses\")\n",
    "print(education_insight)\n",
    "\n",
    "#Impact of campaign duration on responses\n",
    "sampled_data['duration_category'] = pd.cut(sampled_data['duration'], bins=[0, 100, 200, 300, 400, 500, float('inf')], labels=['0-100', '101-200', '201-300', '301-400', '401-500', '501+'])\n",
    "duration_insight = sampled_data.groupby(['duration_category', 'y']).size().unstack(fill_value=0)\n",
    "print(\"\\nInsight 2: Impact of campaign duration on responses\")\n",
    "print(duration_insight)"
   ]
  }
 ],
 "metadata": {
  "kernelspec": {
   "display_name": "Python 3 (ipykernel)",
   "language": "python",
   "name": "python3"
  },
  "language_info": {
   "codemirror_mode": {
    "name": "ipython",
    "version": 3
   },
   "file_extension": ".py",
   "mimetype": "text/x-python",
   "name": "python",
   "nbconvert_exporter": "python",
   "pygments_lexer": "ipython3",
   "version": "3.9.7"
  }
 },
 "nbformat": 4,
 "nbformat_minor": 5
}
